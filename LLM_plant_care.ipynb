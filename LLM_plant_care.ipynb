{
 "cells": [
  {
   "cell_type": "code",
   "execution_count": 1,
   "id": "4e2a9393-7767-488e-a8bf-27c12dca35bd",
   "metadata": {},
   "outputs": [],
   "source": [
    "# imports\n",
    "import ollama\n",
    "import requests\n",
    "from bs4 import BeautifulSoup\n",
    "from IPython.display import Markdown, display"
   ]
  },
  {
   "cell_type": "code",
   "execution_count": 12,
   "id": "91c15be2-12b2-46d1-9520-30d69b6be693",
   "metadata": {},
   "outputs": [],
   "source": [
    "OLLAMA_API = \"http://localhost:11434/api/chat\"\n",
    "HEADERS = {\"Content-Type\": \"application/json\"}\n",
    "MODEL = \"llama3.2\""
   ]
  },
  {
   "cell_type": "code",
   "execution_count": 2,
   "id": "479ff514-e8bd-4985-a572-2ea28bb4fa40",
   "metadata": {},
   "outputs": [],
   "source": [
    "# Let's just make sure the model is loaded\n",
    "\n",
    "# !ollama pull llama3.2"
   ]
  },
  {
   "cell_type": "code",
   "execution_count": 3,
   "id": "cd5eb82b-7a5d-4244-99f1-9bb0180474e1",
   "metadata": {},
   "outputs": [],
   "source": [
    "headers = {\n",
    " \"User-Agent\": \"Mozilla/5.0 (Windows NT 10.0; Win64; x64) AppleWebKit/537.36 (KHTML, like Gecko) Chrome/117.0.0.0 Safari/537.36\"\n",
    "}\n",
    "\n",
    "class Website:\n",
    "\n",
    "    def __init__(self, url):\n",
    "        \"\"\"\n",
    "        Create this Website object from the given url using the BeautifulSoup library\n",
    "        \"\"\"\n",
    "        self.url = url\n",
    "        response = requests.get(url, headers=headers)\n",
    "        soup = BeautifulSoup(response.content, 'html.parser')\n",
    "        self.title = soup.title.string if soup.title else \"No title found\"\n",
    "        for irrelevant in soup.body([\"script\", \"style\", \"img\", \"input\"]):\n",
    "            irrelevant.decompose()\n",
    "        self.text = soup.body.get_text(separator=\"\\n\", strip=True)"
   ]
  },
  {
   "cell_type": "code",
   "execution_count": 6,
   "id": "402d5686-4e76-4110-b65a-b3906c35c0a4",
   "metadata": {},
   "outputs": [],
   "source": [
    "system_prompt = \"You're an assistant who specializes in potted plants that can be grown at home \\\n",
    "You're an assistant who specializes in potted plants that can be grown at home. \\\n",
    "Provide a brief summary and tips for the novice gardener on how to care and look after the plant or flowers. \\\n",
    "Make sure the directions are consistent with the information you have received about the plant from website.\""
   ]
  },
  {
   "cell_type": "code",
   "execution_count": 7,
   "id": "055b4209-0d9c-406e-8127-55f356ed3f14",
   "metadata": {},
   "outputs": [],
   "source": [
    "def user_prompt_for(website):\n",
    "    # url_text = website.url\n",
    "    user_prompt = f\"You are looking at a website dedicated to the right plant {website.title}\"\n",
    "    user_prompt += \"\\nThe contents of this plant website as follows; \\n\\\n",
    "please briefly summarize all the information about this plant in markdown. \\\n",
    "Rate in scale of 1 to 10 the difficulty of caring such a plant.\\\n",
    "Type down what is the best for such a plant and \\\n",
    "what a beginner should pay attention to when growing such a plant.\\n\\n\"\n",
    "    user_prompt += website.text\n",
    "    return user_prompt"
   ]
  },
  {
   "cell_type": "code",
   "execution_count": 8,
   "id": "875c0e95-f7e7-488b-8fe2-3e5308c9c957",
   "metadata": {},
   "outputs": [],
   "source": [
    "def messages_for(website):\n",
    "    return [\n",
    "        {\"role\": \"system\", \"content\": system_prompt},\n",
    "        {\"role\": \"user\", \"content\": user_prompt_for(website)}\n",
    "    ]"
   ]
  },
  {
   "cell_type": "code",
   "execution_count": 9,
   "id": "724ab1a2-2ce8-4d67-a7ea-9ed9d9831d63",
   "metadata": {},
   "outputs": [],
   "source": [
    "def summarize(url):\n",
    "    website = Website(url)\n",
    "    messages = messages_for(website)\n",
    "    response = ollama.chat(model=MODEL, messages=messages)\n",
    "    return response['message']['content']"
   ]
  },
  {
   "cell_type": "code",
   "execution_count": 10,
   "id": "0d79f2e2-1e18-48c2-9d15-f899f029e738",
   "metadata": {},
   "outputs": [],
   "source": [
    "def display_summary(url):\n",
    "    summary = summarize(url)\n",
    "    display(Markdown(summary))"
   ]
  },
  {
   "cell_type": "code",
   "execution_count": 13,
   "id": "5671732c-bfa6-42a0-8891-de6a73636304",
   "metadata": {},
   "outputs": [
    {
     "data": {
      "text/markdown": [
       "Here is a comprehensive guide on how to care for a Monstera deliciosa:\n",
       "\n",
       "**Lighting**\n",
       "\n",
       "* Provide bright, indirect light, but not direct sunlight, which can cause the leaves to become scorched.\n",
       "* East- or west-facing windows are ideal, while south-facing windows can be used with caution.\n",
       "* Avoid placing the plant in a spot with low light, as it may become leggy and stretch towards the light source.\n",
       "\n",
       "**Watering**\n",
       "\n",
       "* Allow the top 1-2 inches of soil to dry out between waterings. Overwatering can lead to root rot.\n",
       "* Water thoroughly until you see water draining from the bottom of the pot.\n",
       "* Reduce watering during the winter months when the plant is dormant.\n",
       "\n",
       "**Humidity**\n",
       "\n",
       "* Monstera deliciosa prefers a humid environment, but it can adapt to average humidity levels in most homes (40-50%).\n",
       "* To increase the humidity around your plant, you can place it on a tray filled with water and pebbles or use a humidifier.\n",
       "\n",
       "**Temperature**\n",
       "\n",
       "* Keep the temperature between 65°F to 75°F (18°C to 24°C) during the day.\n",
       "* Avoid placing the plant near heating or cooling vents, fireplaces, or drafty windows.\n",
       "\n",
       "**Fertilization**\n",
       "\n",
       "* Feed your Monstera deliciosa with a balanced fertilizer (20-20-20) during the growing season (spring and summer).\n",
       "* Dilute the fertilizer to half the recommended strength to avoid burning the roots.\n",
       "* Skip fertilizing during the winter months when the plant is dormant.\n",
       "\n",
       "**Pruning**\n",
       "\n",
       "* Prune the plant regularly to maintain its desired shape and promote healthy growth.\n",
       "* Remove any dead or damaged leaves, as well as any weak or spindly growth.\n",
       "* Use clean pruning tools to prevent spreading disease.\n",
       "\n",
       "**Propagation**\n",
       "\n",
       "* Monstera deliciosa can be propagated through stem cuttings, air-layering, or division.\n",
       "* Take 4-6 inch stem cuttings with at least two nodes and remove lower leaves. Allow the cutting to dry for a few hours before planting in moist soil.\n",
       "* Air-layering involves making a small incision in the stem and wrapping it in moist sphagnum moss. Roots should develop within 1-2 months.\n",
       "* Division involves separating the roots of an older plant and re-potting them.\n",
       "\n",
       "**Pest control**\n",
       "\n",
       "* Check your plant regularly for pests like mealybugs, spider mites, and scale.\n",
       "* Treat any infestations promptly with insecticidal soap or neem oil.\n",
       "* Isolate infected plants to prevent spreading the pest to other plants.\n",
       "\n",
       "**Common issues**\n",
       "\n",
       "* Leaf drop: Overwatering or underwatering can cause leaf drop. Adjust your watering schedule accordingly.\n",
       "* Legginess: Insufficient light can cause the plant to become leggy. Provide more direct sunlight or prune the plant regularly to maintain its shape.\n",
       "* Brown tips: Overfertilization or dry air can cause brown tips on the leaves. Reduce fertilization and increase humidity.\n",
       "\n",
       "By following these care guidelines, you should be able to keep your Monstera deliciosa happy and thriving!"
      ],
      "text/plain": [
       "<IPython.core.display.Markdown object>"
      ]
     },
     "metadata": {},
     "output_type": "display_data"
    }
   ],
   "source": [
    "display_summary(\"https://www.thespruce.com/how-to-grow-monstera-deliciosa-5072671\")"
   ]
  },
  {
   "cell_type": "code",
   "execution_count": null,
   "id": "613612ea-565a-464f-8d4c-78cd86518cec",
   "metadata": {},
   "outputs": [],
   "source": []
  }
 ],
 "metadata": {
  "kernelspec": {
   "display_name": "Python 3 (ipykernel)",
   "language": "python",
   "name": "python3"
  },
  "language_info": {
   "codemirror_mode": {
    "name": "ipython",
    "version": 3
   },
   "file_extension": ".py",
   "mimetype": "text/x-python",
   "name": "python",
   "nbconvert_exporter": "python",
   "pygments_lexer": "ipython3",
   "version": "3.11.4"
  }
 },
 "nbformat": 4,
 "nbformat_minor": 5
}
